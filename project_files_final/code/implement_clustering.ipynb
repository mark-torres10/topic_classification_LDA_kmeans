{
 "cells": [
  {
   "cell_type": "code",
   "execution_count": 2,
   "metadata": {},
   "outputs": [],
   "source": [
    "# import libraries\n",
    "import numpy as np\n",
    "import matplotlib.pyplot as plt\n",
    "from gensim.models import Word2Vec\n",
    "\n",
    "import csv\n",
    "from sklearn.feature_extraction.text import TfidfVectorizer\n",
    "from sklearn.cluster import KMeans\n",
    "from sklearn.metrics import adjusted_rand_score\n",
    "from sklearn.decomposition import PCA\n",
    "from sklearn import cluster\n",
    "\n",
    "import community # for Louvain\n",
    "import networkx as nx\n",
    "\n",
    "# for plotting k-means\n",
    "from sklearn.manifold import TSNE"
   ]
  },
  {
   "cell_type": "code",
   "execution_count": 3,
   "metadata": {},
   "outputs": [],
   "source": [
    "###### import data ######\n",
    "data_dir = \"../data/cleaned_tweets.csv\"\n",
    "\n",
    "# keep tweets in array:\n",
    "tweet_text = []\n",
    "\n",
    "with open(data_dir) as csv_file:\n",
    "    readCSV = csv.reader(csv_file, delimiter = ',')\n",
    "\n",
    "    # iterate by row\n",
    "    for row in readCSV:\n",
    "        # append to array that holds tweets\n",
    "        tweet_text.append(row)"
   ]
  },
  {
   "cell_type": "code",
   "execution_count": 4,
   "metadata": {},
   "outputs": [],
   "source": [
    "# get flattened tweets (make it all just one list)\n",
    "flattened_text = [val for sublist in tweet_text for val in sublist]"
   ]
  },
  {
   "cell_type": "markdown",
   "metadata": {},
   "source": [
    "### Clustering Algorithm 1: K-Means Clustering"
   ]
  },
  {
   "cell_type": "code",
   "execution_count": 5,
   "metadata": {},
   "outputs": [],
   "source": [
    "# initializer vectorizer\n",
    "vectorizer = TfidfVectorizer(stop_words='english')\n",
    "X = vectorizer.fit_transform(flattened_text)"
   ]
  },
  {
   "cell_type": "code",
   "execution_count": 10,
   "metadata": {},
   "outputs": [
    {
     "data": {
      "text/plain": [
       "KMeans(algorithm='auto', copy_x=True, init='k-means++', max_iter=100,\n",
       "       n_clusters=10, n_init=1, n_jobs=None, precompute_distances='auto',\n",
       "       random_state=None, tol=0.0001, verbose=0)"
      ]
     },
     "execution_count": 10,
     "metadata": {},
     "output_type": "execute_result"
    }
   ],
   "source": [
    "# run with k = 10\n",
    "true_k = 10\n",
    "model = KMeans(n_clusters=true_k, init='k-means++', max_iter=100, n_init=1)\n",
    "model.fit(X)"
   ]
  },
  {
   "cell_type": "code",
   "execution_count": 11,
   "metadata": {},
   "outputs": [
    {
     "name": "stdout",
     "output_type": "stream",
     "text": [
      "Top terms per cluster:\n",
      "Cluster 0:\n",
      " rt\n",
      " climatechange\n",
      " climatestrike\n",
      " today\n",
      " people\n",
      " new\n",
      " amp\n",
      " climateemergency\n",
      " ha\n",
      " fridayforfuture\n",
      "Cluster 1:\n",
      " climateemergency\n",
      " rt\n",
      " climatechange\n",
      " climatestrike\n",
      " climateaction\n",
      " fridaysforfuture\n",
      " action\n",
      " today\n",
      " globalclimatestrike\n",
      " fridayforfuture\n",
      "Cluster 2:\n",
      " catania\n",
      " scicily\n",
      " fridaysforfuture\n",
      " climatestrike\n",
      " rt\n",
      " 17vlr\n",
      " climateacti\n",
      " oggi\n",
      " climateactionweek\n",
      " climateactionnow\n",
      "Cluster 3:\n",
      " montreal\n",
      " street\n",
      " 000\n",
      " time\n",
      " wow\n",
      " official\n",
      " 500\n",
      " thousand\n",
      " rt\n",
      " massive\n",
      "Cluster 4:\n",
      " change\n",
      " spoken\n",
      " continue\n",
      " speak\n",
      " listen\n",
      " leader\n",
      " coming\n",
      " people\n",
      " rt\n",
      " comin\n",
      "Cluster 5:\n",
      " climate\n",
      " change\n",
      " strike\n",
      " rt\n",
      " million\n",
      " climatestrike\n",
      " people\n",
      " action\n",
      " global\n",
      " say\n",
      "Cluster 6:\n",
      " future\n",
      " strike\n",
      " friday\n",
      " continues\n",
      " climatestrike\n",
      " presente\n",
      " school\n",
      " fridaysforfuture\n",
      " klimatstrejk\n",
      " torino\n",
      "Cluster 7:\n",
      " climatecrisis\n",
      " rt\n",
      " action\n",
      " ha\n",
      " million\n",
      " climate\n",
      " scientist\n",
      " respected\n",
      " explain\n",
      " world\n",
      "Cluster 8:\n",
      " fridaysforfuture\n",
      " climatestrike\n",
      " rt\n",
      " italy\n",
      " santiago\n",
      " schoolstrike4climate\n",
      " people\n",
      " chile\n",
      " vancouver\n",
      " million\n",
      "Cluster 9:\n",
      " xe9al\n",
      " montr\n",
      " klimatstrejk\n",
      " fridayforfuture\n",
      " 500\n",
      " coming\n",
      " change\n",
      " climatestrike\n",
      " rt\n",
      " fridaysforfuture\n"
     ]
    }
   ],
   "source": [
    "# see results\n",
    "print(\"Top terms per cluster:\")\n",
    "order_centroids = model.cluster_centers_.argsort()[:, ::-1]\n",
    "terms = vectorizer.get_feature_names()\n",
    "for i in range(true_k):\n",
    "    print(\"Cluster %d:\" % i),\n",
    "    for ind in order_centroids[i, :10]:\n",
    "        print(' %s' % terms[ind])"
   ]
  },
  {
   "cell_type": "code",
   "execution_count": 12,
   "metadata": {},
   "outputs": [
    {
     "data": {
      "text/plain": [
       "array([0, 0, 0, ..., 8, 0, 2], dtype=int32)"
      ]
     },
     "execution_count": 12,
     "metadata": {},
     "output_type": "execute_result"
    }
   ],
   "source": [
    "# get cluster labels\n",
    "model.labels_"
   ]
  },
  {
   "cell_type": "markdown",
   "metadata": {},
   "source": [
    "#### Now that I see that it works for k = 10, let's see what topics it comes up for other values of k"
   ]
  },
  {
   "cell_type": "markdown",
   "metadata": {},
   "source": [
    "#### For k = 5"
   ]
  },
  {
   "cell_type": "code",
   "execution_count": 10,
   "metadata": {},
   "outputs": [
    {
     "data": {
      "text/plain": [
       "KMeans(algorithm='auto', copy_x=True, init='k-means++', max_iter=100,\n",
       "       n_clusters=5, n_init=1, n_jobs=None, precompute_distances='auto',\n",
       "       random_state=None, tol=0.0001, verbose=0)"
      ]
     },
     "execution_count": 10,
     "metadata": {},
     "output_type": "execute_result"
    }
   ],
   "source": [
    "# for k = 5\n",
    "model_5 = KMeans(n_clusters = 5, init='k-means++', max_iter=100, n_init=1)\n",
    "model_5.fit(X)"
   ]
  },
  {
   "cell_type": "code",
   "execution_count": 11,
   "metadata": {},
   "outputs": [
    {
     "name": "stdout",
     "output_type": "stream",
     "text": [
      "Top terms per cluster:\n",
      "Cluster 0:\n",
      " rt\n",
      " climatestrike\n",
      " climatechange\n",
      " climate\n",
      " today\n",
      " climatecrisis\n",
      " montreal\n",
      " people\n",
      " street\n",
      " time\n",
      "Cluster 1:\n",
      " fridaysforfuture\n",
      " climatestrike\n",
      " rt\n",
      " klimatstrejk\n",
      " italy\n",
      " change\n",
      " xe9al\n",
      " montr\n",
      " coming\n",
      " fridayforfuture\n",
      "Cluster 2:\n",
      " climateemergency\n",
      " rt\n",
      " climatechange\n",
      " climatecrisis\n",
      " climatestrike\n",
      " climateaction\n",
      " fridaysforfuture\n",
      " action\n",
      " today\n",
      " globalclimatestrike\n",
      "Cluster 3:\n",
      " wellington\n",
      " nz\n",
      " fridaysforfuture\n",
      " climatestrike\n",
      " begin\n",
      " rt\n",
      " growing\n",
      " auckland\n",
      " demand\n",
      " thousand\n",
      "Cluster 4:\n",
      " city\n",
      " iowa\n",
      " fridaysforfuture\n",
      " climatestrike\n",
      " strike\n",
      " 59\n",
      " schoolstr\n",
      " happy\n",
      " school\n",
      " rt\n"
     ]
    }
   ],
   "source": [
    "# see results\n",
    "print(\"Top terms per cluster:\")\n",
    "order_centroids = model_5.cluster_centers_.argsort()[:, ::-1]\n",
    "terms = vectorizer.get_feature_names()\n",
    "for i in range(5):\n",
    "    print(\"Cluster %d:\" % i),\n",
    "    for ind in order_centroids[i, :10]:\n",
    "        print(' %s' % terms[ind])"
   ]
  },
  {
   "cell_type": "code",
   "execution_count": 12,
   "metadata": {},
   "outputs": [
    {
     "data": {
      "text/plain": [
       "array([0, 0, 0, ..., 1, 0, 1], dtype=int32)"
      ]
     },
     "execution_count": 12,
     "metadata": {},
     "output_type": "execute_result"
    }
   ],
   "source": [
    "# get cluster labels\n",
    "model_5.labels_"
   ]
  },
  {
   "cell_type": "code",
   "execution_count": null,
   "metadata": {},
   "outputs": [],
   "source": []
  },
  {
   "cell_type": "markdown",
   "metadata": {},
   "source": [
    "#### For k = 15"
   ]
  },
  {
   "cell_type": "code",
   "execution_count": 6,
   "metadata": {},
   "outputs": [
    {
     "data": {
      "text/plain": [
       "KMeans(algorithm='auto', copy_x=True, init='k-means++', max_iter=100,\n",
       "       n_clusters=15, n_init=1, n_jobs=None, precompute_distances='auto',\n",
       "       random_state=None, tol=0.0001, verbose=0)"
      ]
     },
     "execution_count": 6,
     "metadata": {},
     "output_type": "execute_result"
    }
   ],
   "source": [
    "# for k = 15\n",
    "model_15 = KMeans(n_clusters = 15, init='k-means++', max_iter=100, n_init=1)\n",
    "model_15.fit(X)"
   ]
  },
  {
   "cell_type": "code",
   "execution_count": 7,
   "metadata": {},
   "outputs": [
    {
     "name": "stdout",
     "output_type": "stream",
     "text": [
      "Top terms per cluster:\n",
      "Cluster 0:\n",
      " climateemergency\n",
      " rt\n",
      " climatechange\n",
      " climatecrisis\n",
      " climatestrike\n",
      " climateaction\n",
      " fridaysforfuture\n",
      " action\n",
      " today\n",
      " globalclimatestrike\n",
      "Cluster 1:\n",
      " change\n",
      " xe9al\n",
      " montr\n",
      " coming\n",
      " klimatstrejk\n",
      " fridayforfuture\n",
      " 500\n",
      " climatestrike\n",
      " spoken\n",
      " continue\n",
      "Cluster 2:\n",
      " climatechange\n",
      " rt\n",
      " ha\n",
      " climateaction\n",
      " preach\n",
      " world\n",
      " speech\n",
      " like\n",
      " gretathunberg\n",
      " real\n",
      "Cluster 3:\n",
      " hull\n",
      " acto\n",
      " headed\n",
      " quebec\n",
      " hill\n",
      " wait\n",
      " parliament\n",
      " incredible\n",
      " wow\n",
      " planet\n",
      "Cluster 4:\n",
      " fridaysforfuture\n",
      " climatestrike\n",
      " rt\n",
      " italy\n",
      " people\n",
      " vancouver\n",
      " schoolstrike4climate\n",
      " million\n",
      " torino\n",
      " picture\n",
      "Cluster 5:\n",
      " amp\n",
      " rt\n",
      " climatechange\n",
      " 30\n",
      " cambie\n",
      " 50\n",
      " climatestrike\n",
      " vancouver\n",
      " 000\n",
      " watch\n",
      "Cluster 6:\n",
      " climatestrike\n",
      " rt\n",
      " today\n",
      " climatecrisis\n",
      " people\n",
      " climateemergency\n",
      " new\n",
      " fridaysforfuture\n",
      " fridayforfuture\n",
      " million\n",
      "Cluster 7:\n",
      " newfoundland\n",
      " john\n",
      " st\n",
      " future\n",
      " fridaysforfuture\n",
      " strike\n",
      " climatestrike\n",
      " friday\n",
      " continues\n",
      " presente\n",
      "Cluster 8:\n",
      " thousand\n",
      " street\n",
      " milan\n",
      " massive\n",
      " demand\n",
      " growing\n",
      " action\n",
      " time\n",
      " climatecrisis\n",
      " look\n",
      "Cluster 9:\n",
      " climatechangehoax\n",
      " rt\n",
      " breakthrough\n",
      " bipartisan\n",
      " proposed\n",
      " climatechange\n",
      " need\n",
      " reduce\n",
      " co2\n",
      " emission\n",
      "Cluster 10:\n",
      " city\n",
      " iowa\n",
      " fridaysforfuture\n",
      " strike\n",
      " school\n",
      " schoolstrike4climate\n",
      " climatestrike\n",
      " week\n",
      " 58\n",
      " 59\n",
      "Cluster 11:\n",
      " montreal\n",
      " 000\n",
      " official\n",
      " 500\n",
      " street\n",
      " today\n",
      " count\n",
      " saw\n",
      " wow\n",
      " ending\n",
      "Cluster 12:\n",
      " santiago\n",
      " chile\n",
      " fridaysforfuture\n",
      " climatestrike\n",
      " rt\n",
      " valparaiso\n",
      " 100\n",
      " yesterday\n",
      " check\n",
      " video\n",
      "Cluster 13:\n",
      " protesting\n",
      " government\n",
      " netherlands\n",
      " farmer\n",
      " blame\n",
      " pro\n",
      " future\n",
      " thousand\n",
      " barcelona\n",
      " declareclimateemergency\n",
      "Cluster 14:\n",
      " climate\n",
      " change\n",
      " rt\n",
      " strike\n",
      " action\n",
      " ha\n",
      " climatestrike\n",
      " world\n",
      " million\n",
      " globalclimatestrike\n"
     ]
    }
   ],
   "source": [
    "# see results\n",
    "print(\"Top terms per cluster:\")\n",
    "order_centroids = model_15.cluster_centers_.argsort()[:, ::-1]\n",
    "terms = vectorizer.get_feature_names()\n",
    "for i in range(15):\n",
    "    print(\"Cluster %d:\" % i),\n",
    "    for ind in order_centroids[i, :10]:\n",
    "        print(' %s' % terms[ind])"
   ]
  },
  {
   "cell_type": "code",
   "execution_count": 8,
   "metadata": {},
   "outputs": [
    {
     "data": {
      "text/plain": [
       "array([6, 6, 6, ..., 4, 6, 4], dtype=int32)"
      ]
     },
     "execution_count": 8,
     "metadata": {},
     "output_type": "execute_result"
    }
   ],
   "source": [
    "# get cluster labels\n",
    "model_15.labels_"
   ]
  }
 ],
 "metadata": {
  "kernelspec": {
   "display_name": "Python 3",
   "language": "python",
   "name": "python3"
  },
  "language_info": {
   "codemirror_mode": {
    "name": "ipython",
    "version": 3
   },
   "file_extension": ".py",
   "mimetype": "text/x-python",
   "name": "python",
   "nbconvert_exporter": "python",
   "pygments_lexer": "ipython3",
   "version": "3.7.2"
  }
 },
 "nbformat": 4,
 "nbformat_minor": 2
}
